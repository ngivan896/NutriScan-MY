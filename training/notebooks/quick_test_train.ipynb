{
  "cells": [
    {
      "cell_type": "markdown",
      "metadata": {},
      "source": [
        "# Quick Test Training - 快速测试训练\n",
        "\n",
        "使用3张nasi_lemak图像测试训练流程\n",
        "\n",
        "**注意**: 这只是测试流程，不会得到好的模型！\n",
        "\n",
        "---\n"
      ]
    },
    {
      "cell_type": "markdown",
      "metadata": {},
      "source": [
        "## 1. 环境检查\n"
      ]
    },
    {
      "cell_type": "code",
      "execution_count": null,
      "metadata": {},
      "outputs": [],
      "source": [
        "# Install dependencies\n",
        "%pip install ultralytics pillow pyyaml -q\n",
        "\n",
        "import torch\n",
        "import ultralytics\n",
        "from pathlib import Path\n",
        "\n",
        "print(f\"✅ Ultralytics: {ultralytics.__version__}\")\n",
        "print(f\"✅ PyTorch: {torch.__version__}\")\n",
        "\n",
        "device = 'cuda' if torch.cuda.is_available() else 'cpu'\n",
        "print(f\"✅ Device: {device}\")\n",
        "if device == 'cuda':\n",
        "    print(f\"   GPU: {torch.cuda.get_device_name(0)}\")\n",
        "else:\n",
        "    print(\"   ⚠️  使用CPU训练会很慢，但可以验证流程\")\n"
      ]
    },
    {
      "cell_type": "markdown",
      "metadata": {},
      "source": [
        "## 2. 准备测试数据集\n"
      ]
    },
    {
      "cell_type": "code",
      "execution_count": null,
      "metadata": {},
      "outputs": [],
      "source": [
        "import os\n",
        "import shutil\n",
        "from pathlib import Path\n",
        "\n",
        "# 创建测试数据集目录\n",
        "dataset_root = Path('test_dataset')\n",
        "dataset_root.mkdir(exist_ok=True)\n",
        "\n",
        "# 创建train/val/test分割\n",
        "for split in ['train', 'valid', 'test']:\n",
        "    (dataset_root / split / 'images').mkdir(parents=True, exist_ok=True)\n",
        "    (dataset_root / split / 'labels').mkdir(parents=True, exist_ok=True)\n",
        "\n",
        "# 从test_images复制图像\n",
        "test_images_dir = Path('../../test_images/nasi_lemak')\n",
        "images = list(test_images_dir.glob('*.jpg'))\n",
        "\n",
        "print(f\"找到 {len(images)} 张测试图像\")\n",
        "\n",
        "# 分配：2张训练，1张验证\n",
        "if len(images) >= 3:\n",
        "    train_images = images[:2]\n",
        "    val_images = images[2:3]\n",
        "    \n",
        "    for img in train_images:\n",
        "        shutil.copy(img, dataset_root / 'train' / 'images' / img.name)\n",
        "    \n",
        "    for img in val_images:\n",
        "        shutil.copy(img, dataset_root / 'valid' / 'images' / img.name)\n",
        "        shutil.copy(img, dataset_root / 'test' / 'images' / img.name)\n",
        "    \n",
        "    print(f\"✅ 训练集: {len(train_images)} 张\")\n",
        "    print(f\"✅ 验证集: {len(val_images)} 张\")\n",
        "else:\n",
        "    print(\"❌ 图像不足！\")\n"
      ]
    },
    {
      "cell_type": "markdown",
      "metadata": {},
      "source": [
        "## 3. 创建虚拟标注\n",
        "\n",
        "为每张图像创建简单标注（覆盖整张图）\n"
      ]
    },
    {
      "cell_type": "code",
      "execution_count": null,
      "metadata": {},
      "outputs": [],
      "source": [
        "from PIL import Image\n",
        "\n",
        "def create_dummy_label(image_path, label_path, class_id=0):\n",
        "    \"\"\"创建覆盖整张图的虚拟标注\"\"\"\n",
        "    img = Image.open(image_path)\n",
        "    width, height = img.size\n",
        "    \n",
        "    # YOLO格式: class_id x_center y_center width height\n",
        "    label_content = f\"{class_id} 0.5 0.5 0.9 0.9\\n\"\n",
        "    \n",
        "    with open(label_path, 'w') as f:\n",
        "        f.write(label_content)\n",
        "\n",
        "# 为所有图像创建标注\n",
        "for split in ['train', 'valid', 'test']:\n",
        "    images_dir = dataset_root / split / 'images'\n",
        "    labels_dir = dataset_root / split / 'labels'\n",
        "    \n",
        "    for img_path in images_dir.glob('*.jpg'):\n",
        "        label_path = labels_dir / f\"{img_path.stem}.txt\"\n",
        "        create_dummy_label(img_path, label_path, class_id=0)\n",
        "    \n",
        "    label_count = len(list(labels_dir.glob('*.txt')))\n",
        "    print(f\"✅ {split}: 创建了 {label_count} 个标注\")\n",
        "\n",
        "print(\"\\n⚠️  注意: 这些是虚拟标注，仅用于测试！\")\n"
      ]
    },
    {
      "cell_type": "markdown",
      "metadata": {},
      "source": [
        "## 4. 创建data.yaml配置\n"
      ]
    },
    {
      "cell_type": "code",
      "execution_count": null,
      "metadata": {},
      "outputs": [],
      "source": [
        "import yaml\n",
        "\n",
        "# YOLO配置文件\n",
        "data_config = {\n",
        "    'path': str(dataset_root.absolute()),\n",
        "    'train': 'train/images',\n",
        "    'val': 'valid/images',\n",
        "    'test': 'test/images',\n",
        "    'nc': 1,\n",
        "    'names': ['nasi_lemak']\n",
        "}\n",
        "\n",
        "data_yaml = dataset_root / 'data.yaml'\n",
        "with open(data_yaml, 'w') as f:\n",
        "    yaml.dump(data_config, f, default_flow_style=False)\n",
        "\n",
        "print(\"✅ data.yaml 已创建\")\n",
        "print(f\"\\n配置:\")\n",
        "print(yaml.dump(data_config, default_flow_style=False))\n"
      ]
    },
    {
      "cell_type": "markdown",
      "metadata": {},
      "source": [
        "## 5. 快速训练测试\n",
        "\n",
        "⏱️ 预计时间: CPU 5-10分钟, GPU 1-2分钟\n"
      ]
    },
    {
      "cell_type": "code",
      "execution_count": null,
      "metadata": {},
      "outputs": [],
      "source": [
        "from ultralytics import YOLO\n",
        "import warnings\n",
        "warnings.filterwarnings('ignore')\n",
        "\n",
        "print(\"🚀 开始测试训练...\")\n",
        "print()\n",
        "\n",
        "# 加载最小模型\n",
        "model = YOLO('yolov8n.pt')\n",
        "\n",
        "# 快速训练（仅测试）\n",
        "try:\n",
        "    results = model.train(\n",
        "        data=str(data_yaml),\n",
        "        epochs=3,              # 只训练3轮\n",
        "        imgsz=640,\n",
        "        batch=1,\n",
        "        device=device,\n",
        "        project='test_runs',\n",
        "        name='quick_test',\n",
        "        patience=0,\n",
        "        save=True,\n",
        "        plots=False,\n",
        "        verbose=True,\n",
        "        # 禁用数据增强\n",
        "        hsv_h=0,\n",
        "        hsv_s=0,\n",
        "        hsv_v=0,\n",
        "        mosaic=0\n",
        "    )\n",
        "    \n",
        "    print(\"\\n✅ 训练流程测试成功！\")\n",
        "    print(\"\\n⚠️  重要:\")\n",
        "    print(\"   - 这只是测试，模型不会有实际能力\")\n",
        "    print(\"   - 需要1000+张图像才能训练出好模型\")\n",
        "    print(\"   - 继续Week 2数据收集！\")\n",
        "    \n",
        "except Exception as e:\n",
        "    print(f\"\\n❌ 出错: {e}\")\n",
        "    print(\"\\n可能原因:\")\n",
        "    print(\"   1. 内存不足\")\n",
        "    print(\"   2. 图像格式问题\")\n",
        "    print(\"   3. PyTorch安装问题\")\n"
      ]
    },
    {
      "cell_type": "markdown",
      "metadata": {},
      "source": [
        "## 6. 测试推理\n"
      ]
    },
    {
      "cell_type": "code",
      "execution_count": null,
      "metadata": {},
      "outputs": [],
      "source": [
        "# 加载训练好的模型\n",
        "trained_model = YOLO('test_runs/quick_test/weights/best.pt')\n",
        "\n",
        "# 测试推理\n",
        "test_img = list((dataset_root / 'test/images').glob('*.jpg'))[0]\n",
        "results = trained_model(test_img)\n",
        "\n",
        "print(\"✅ 推理测试成功！\")\n",
        "print(f\"\\n模型输出: {results[0].boxes}\")\n",
        "print(\"\\n（检测可能不准确，这是正常的）\")\n",
        "\n",
        "# 显示图像\n",
        "import matplotlib.pyplot as plt\n",
        "img = Image.open(test_img)\n",
        "plt.figure(figsize=(10, 8))\n",
        "plt.imshow(img)\n",
        "plt.axis('off')\n",
        "plt.title('Test Image')\n",
        "plt.show()\n"
      ]
    },
    {
      "cell_type": "markdown",
      "metadata": {},
      "source": [
        "## 总结\n",
        "\n",
        "### ✅ 测试成功说明\n",
        "- 训练环境配置正确\n",
        "- 训练流程可以运行\n",
        "- 可以继续数据收集\n",
        "\n",
        "### 📊 对比\n",
        "\n",
        "| 项目 | 测试 | 真实训练 |\n",
        "|------|------|---------|\n",
        "| 图像 | 3张 | 1000+张 |\n",
        "| 类别 | 1类 | 20类 |\n",
        "| Epochs | 3 | 100 |\n",
        "| 时间 | 5-10分钟 | 2-4小时 |\n",
        "| mAP50 | ~5% | >80% |\n",
        "\n",
        "### 🚀 下一步\n",
        "1. 继续Week 2数据收集\n",
        "2. 收集1000+张图像\n",
        "3. 上传Roboflow标注\n",
        "4. Week 3正式训练\n",
        "\n",
        "---\n",
        "\n",
        "**现在去收集数据吧！** 🎯\n"
      ]
    }
  ],
  "metadata": {
    "language_info": {
      "name": "python"
    }
  },
  "nbformat": 4,
  "nbformat_minor": 2
}
