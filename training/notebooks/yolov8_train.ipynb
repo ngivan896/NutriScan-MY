{
  "cells": [
    {
      "cell_type": "markdown",
      "metadata": {},
      "source": [
        "# NutriScan MY - YOLOv8 Training Notebook\n",
        "\n",
        "## 马来西亚食物识别模型训练\n",
        "\n",
        "**Project**: Malaysian Food Detection  \n",
        "**Model**: YOLOv8  \n",
        "**Target**: 20 food categories, 1000+ images  \n",
        "**Goal**: mAP50 > 80%, inference < 100ms\n",
        "\n",
        "---\n"
      ]
    },
    {
      "cell_type": "markdown",
      "metadata": {},
      "source": [
        "## 1. Environment Setup\n"
      ]
    },
    {
      "cell_type": "code",
      "execution_count": 1,
      "metadata": {},
      "outputs": [
        {
          "name": "stderr",
          "output_type": "stream",
          "text": [
            "WARNING: Ignoring invalid distribution ~vicorn (c:\\Users\\ngiva\\AppData\\Local\\Programs\\Python\\Python312\\Lib\\site-packages)\n",
            "WARNING: Ignoring invalid distribution ~vicorn (c:\\Users\\ngiva\\AppData\\Local\\Programs\\Python\\Python312\\Lib\\site-packages)\n",
            "ERROR: Could not install packages due to an OSError: [WinError 5] Access is denied: 'c:\\\\Users\\\\ngiva\\\\AppData\\\\Local\\\\Programs\\\\Python\\\\Python312\\\\Lib\\\\site-packages\\\\cv2\\\\cv2.pyd'\n",
            "Consider using the `--user` option or check the permissions.\n",
            "\n"
          ]
        },
        {
          "name": "stdout",
          "output_type": "stream",
          "text": [
            "Note: you may need to restart the kernel to use updated packages.\n",
            "✅ Ultralytics version: 8.3.204\n",
            "✅ Using device: cpu\n"
          ]
        }
      ],
      "source": [
        "# Install dependencies\n",
        "%pip install ultralytics roboflow opencv-python pillow -q\n",
        "\n",
        "# Verify installation\n",
        "import ultralytics\n",
        "print(f\"✅ Ultralytics version: {ultralytics.__version__}\")\n",
        "\n",
        "# Check GPU availability\n",
        "import torch\n",
        "device = 'cuda' if torch.cuda.is_available() else 'cpu'\n",
        "print(f\"✅ Using device: {device}\")\n",
        "if device == 'cuda':\n",
        "    print(f\"   GPU: {torch.cuda.get_device_name(0)}\")\n"
      ]
    },
    {
      "cell_type": "markdown",
      "metadata": {},
      "source": [
        "## 2. Download Dataset from Roboflow\n"
      ]
    },
    {
      "cell_type": "code",
      "execution_count": 2,
      "metadata": {},
      "outputs": [
        {
          "name": "stdout",
          "output_type": "stream",
          "text": [
            "loading Roboflow workspace...\n",
            "loading Roboflow project...\n"
          ]
        },
        {
          "ename": "RuntimeError",
          "evalue": "Version number 1 is not found.",
          "output_type": "error",
          "traceback": [
            "\u001b[31m---------------------------------------------------------------------------\u001b[39m",
            "\u001b[31mRuntimeError\u001b[39m                              Traceback (most recent call last)",
            "\u001b[36mCell\u001b[39m\u001b[36m \u001b[39m\u001b[32mIn[2]\u001b[39m\u001b[32m, line 9\u001b[39m\n\u001b[32m      7\u001b[39m \u001b[38;5;66;03m# Download dataset\u001b[39;00m\n\u001b[32m      8\u001b[39m project = rf.workspace(\u001b[33m\"\u001b[39m\u001b[33mmalaysian-food-detection\u001b[39m\u001b[33m\"\u001b[39m).project(\u001b[33m\"\u001b[39m\u001b[33mmalaysian-food-detection-wy3kt\u001b[39m\u001b[33m\"\u001b[39m)\n\u001b[32m----> \u001b[39m\u001b[32m9\u001b[39m dataset = \u001b[43mproject\u001b[49m\u001b[43m.\u001b[49m\u001b[43mversion\u001b[49m\u001b[43m(\u001b[49m\u001b[32;43m1\u001b[39;49m\u001b[43m)\u001b[49m.download(\u001b[33m\"\u001b[39m\u001b[33myolov8\u001b[39m\u001b[33m\"\u001b[39m)\n\u001b[32m     11\u001b[39m \u001b[38;5;28mprint\u001b[39m(\u001b[33mf\u001b[39m\u001b[33m\"\u001b[39m\u001b[33m✅ Dataset downloaded to: \u001b[39m\u001b[38;5;132;01m{\u001b[39;00mdataset.location\u001b[38;5;132;01m}\u001b[39;00m\u001b[33m\"\u001b[39m)\n",
            "\u001b[36mFile \u001b[39m\u001b[32m~\\AppData\\Roaming\\Python\\Python312\\site-packages\\roboflow\\core\\project.py:357\u001b[39m, in \u001b[36mProject.version\u001b[39m\u001b[34m(self, version_number, local)\u001b[39m\n\u001b[32m    342\u001b[39m         vers = Version(\n\u001b[32m    343\u001b[39m             version_object,\n\u001b[32m    344\u001b[39m             \u001b[38;5;28mself\u001b[39m.type,\n\u001b[32m   (...)\u001b[39m\u001b[32m    353\u001b[39m             colors=\u001b[38;5;28mself\u001b[39m.colors,\n\u001b[32m    354\u001b[39m         )\n\u001b[32m    355\u001b[39m         \u001b[38;5;28;01mreturn\u001b[39;00m vers\n\u001b[32m--> \u001b[39m\u001b[32m357\u001b[39m \u001b[38;5;28;01mraise\u001b[39;00m \u001b[38;5;167;01mRuntimeError\u001b[39;00m(\u001b[33mf\u001b[39m\u001b[33m\"\u001b[39m\u001b[33mVersion number \u001b[39m\u001b[38;5;132;01m{\u001b[39;00mversion_number\u001b[38;5;132;01m}\u001b[39;00m\u001b[33m is not found.\u001b[39m\u001b[33m\"\u001b[39m)\n",
            "\u001b[31mRuntimeError\u001b[39m: Version number 1 is not found."
          ]
        }
      ],
      "source": [
        "from roboflow import Roboflow\n",
        "\n",
        "# Initialize Roboflow\n",
        "# TODO: Replace with your actual API key from https://app.roboflow.com/settings/api\n",
        "rf = Roboflow(api_key=\"BwTemPbP39LHLFH4teds\")\n",
        "\n",
        "# Download dataset\n",
        "project = rf.workspace(\"malaysian-food-detection\").project(\"malaysian-food-detection-wy3kt\")\n",
        "dataset = project.version(1).download(\"yolov8\")\n",
        "\n",
        "print(f\"✅ Dataset downloaded to: {dataset.location}\")\n"
      ]
    },
    {
      "cell_type": "markdown",
      "metadata": {},
      "source": [
        "## 3. Verify Dataset Structure\n"
      ]
    },
    {
      "cell_type": "code",
      "execution_count": null,
      "metadata": {},
      "outputs": [],
      "source": [
        "import os\n",
        "from pathlib import Path\n",
        "\n",
        "# Check dataset structure\n",
        "dataset_path = Path(dataset.location)\n",
        "data_yaml = dataset_path / \"data.yaml\"\n",
        "\n",
        "print(\"📂 Dataset structure:\")\n",
        "print(f\"   Train images: {len(list((dataset_path / 'train/images').glob('*')))}\")\n",
        "print(f\"   Valid images: {len(list((dataset_path / 'valid/images').glob('*')))}\")\n",
        "print(f\"   Test images: {len(list((dataset_path / 'test/images').glob('*')))}\")\n",
        "\n",
        "# Read data.yaml\n",
        "import yaml\n",
        "with open(data_yaml, 'r') as f:\n",
        "    data_config = yaml.safe_load(f)\n",
        "    \n",
        "print(f\"\\n📊 Classes: {data_config['nc']}\")\n",
        "print(f\"   {data_config['names']}\")\n"
      ]
    },
    {
      "cell_type": "markdown",
      "metadata": {},
      "source": [
        "## 4. Train YOLOv8 Model\n"
      ]
    },
    {
      "cell_type": "code",
      "execution_count": null,
      "metadata": {},
      "outputs": [],
      "source": [
        "from ultralytics import YOLO\n",
        "\n",
        "# Load pretrained model\n",
        "model = YOLO('yolov8n.pt')  # nano model for mobile deployment\n",
        "\n",
        "# Training configuration\n",
        "results = model.train(\n",
        "    data=str(data_yaml),\n",
        "    epochs=100,              # 可根据需要调整\n",
        "    imgsz=640,               # 输入图像大小\n",
        "    batch=16,                # batch size (根据GPU调整)\n",
        "    device=device,\n",
        "    project='../../results',\n",
        "    name='nutriscan_v1',\n",
        "    \n",
        "    # Hyperparameters\n",
        "    lr0=0.01,                # initial learning rate\n",
        "    lrf=0.01,                # final learning rate\n",
        "    momentum=0.937,\n",
        "    weight_decay=0.0005,\n",
        "    warmup_epochs=3.0,\n",
        "    warmup_momentum=0.8,\n",
        "    \n",
        "    # Augmentation\n",
        "    hsv_h=0.015,             # HSV-Hue augmentation\n",
        "    hsv_s=0.7,               # HSV-Saturation augmentation\n",
        "    hsv_v=0.4,               # HSV-Value augmentation\n",
        "    degrees=0.0,             # rotation\n",
        "    translate=0.1,           # translation\n",
        "    scale=0.5,               # scaling\n",
        "    fliplr=0.5,              # flip left-right\n",
        "    mosaic=1.0,              # mosaic augmentation\n",
        "    \n",
        "    # Early stopping\n",
        "    patience=50,             # epochs to wait for improvement\n",
        "    \n",
        "    # Logging\n",
        "    save=True,\n",
        "    verbose=True,\n",
        "    plots=True\n",
        ")\n",
        "\n",
        "print(\"\\n✅ Training completed!\")\n"
      ]
    },
    {
      "cell_type": "markdown",
      "metadata": {},
      "source": [
        "## 5. Evaluate Model Performance\n"
      ]
    },
    {
      "cell_type": "code",
      "execution_count": null,
      "metadata": {},
      "outputs": [],
      "source": [
        "# Evaluate on validation set\n",
        "metrics = model.val()\n",
        "\n",
        "print(\"📊 Performance Metrics:\")\n",
        "print(f\"   mAP50: {metrics.box.map50:.3f}\")\n",
        "print(f\"   mAP50-95: {metrics.box.map:.3f}\")\n",
        "print(f\"   Precision: {metrics.box.p:.3f}\")\n",
        "print(f\"   Recall: {metrics.box.r:.3f}\")\n",
        "\n",
        "# Check if target is met\n",
        "if metrics.box.map50 > 0.80:\n",
        "    print(\"\\n✅ Target achieved! mAP50 > 80%\")\n",
        "else:\n",
        "    print(f\"\\n⚠️  Need improvement. Current: {metrics.box.map50:.1%}, Target: 80%\")\n"
      ]
    },
    {
      "cell_type": "markdown",
      "metadata": {},
      "source": [
        "## 6. Export to TensorFlow Lite\n"
      ]
    },
    {
      "cell_type": "code",
      "execution_count": null,
      "metadata": {},
      "outputs": [],
      "source": [
        "# Export to TFLite format for mobile deployment\n",
        "tflite_model = model.export(format='tflite', imgsz=640, int8=False)\n",
        "\n",
        "print(f\"✅ TFLite model exported: {tflite_model}\")\n",
        "\n",
        "# Check model size\n",
        "import os\n",
        "model_size = os.path.getsize(tflite_model) / (1024 * 1024)  # MB\n",
        "print(f\"📦 Model size: {model_size:.2f} MB\")\n",
        "\n",
        "if model_size < 20:\n",
        "    print(\"✅ Target achieved! Model < 20MB\")\n",
        "else:\n",
        "    print(f\"⚠️  Model too large. Current: {model_size:.1f}MB, Target: < 20MB\")\n",
        "\n",
        "# Save to models directory\n",
        "import shutil\n",
        "output_dir = Path('../../models/nutriscan_v1')\n",
        "output_dir.mkdir(parents=True, exist_ok=True)\n",
        "shutil.copy(tflite_model, output_dir / 'model.tflite')\n",
        "print(f\"\\n✅ Model saved to: {output_dir / 'model.tflite'}\")\n"
      ]
    },
    {
      "cell_type": "markdown",
      "metadata": {},
      "source": [
        "## Summary\n",
        "\n",
        "### 完成项目\n",
        "- ✅ 环境配置\n",
        "- ✅ 数据集下载\n",
        "- ✅ 模型训练\n",
        "- ✅ 性能评估\n",
        "- ✅ TFLite导出\n",
        "\n",
        "### 下一步 (Week 5-6)\n",
        "1. 将TFLite模型集成到React Native app\n",
        "2. 实现相机接口和图像预处理\n",
        "3. 集成Gemini Vision API进行营养分析\n",
        "4. 开发多语言UI界面\n",
        "\n",
        "---\n",
        "\n",
        "**Created**: 2025-10-04  \n",
        "**Model**: YOLOv8n  \n",
        "**Dataset**: 20 Malaysian food categories\n"
      ]
    }
  ],
  "metadata": {
    "kernelspec": {
      "display_name": "Python 3",
      "language": "python",
      "name": "python3"
    },
    "language_info": {
      "codemirror_mode": {
        "name": "ipython",
        "version": 3
      },
      "file_extension": ".py",
      "mimetype": "text/x-python",
      "name": "python",
      "nbconvert_exporter": "python",
      "pygments_lexer": "ipython3",
      "version": "3.12.8"
    }
  },
  "nbformat": 4,
  "nbformat_minor": 2
}
